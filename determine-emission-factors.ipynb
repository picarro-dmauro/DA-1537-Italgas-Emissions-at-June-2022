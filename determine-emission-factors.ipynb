{
 "cells": [
  {
   "cell_type": "code",
   "execution_count": 18,
   "id": "5db1f94b-9754-4a87-8cc9-bc119ffaec80",
   "metadata": {
    "tags": []
   },
   "outputs": [],
   "source": [
    "%load_ext lab_black\n",
    "%load_ext autoreload\n",
    "%autoreload 2\n",
    "\n",
    "import numpy as np\n",
    "import pandas as pd\n",
    "from scipy.stats import lognorm, norm\n",
    "from common import SCFH_TO_SLPM_FACTOR, plot_histogram, plot_cdf\n",
    "from config import CUSTOMER\n",
    "\n",
    "WSU_MU_NORM = -1.36\n",
    "WSU_SIGMA_NORM = 1.77\n",
    "ITALGAS_EMISSION_FACTORS = {\n",
    "    \"B-2\": 0.2,\n",
    "    \"B-1\": 0.5,\n",
    "    \"B0\": 1.9,\n",
    "    \"B1\": 9.1,\n",
    "}  # Italgas & Toscana, https://picarro.atlassian.net/wiki/spaces/DAKB/pages/2291859477/Emission+Factor+Lookup+Tables"
   ]
  },
  {
   "cell_type": "code",
   "execution_count": 19,
   "id": "40308e95-0261-4d63-956f-a9e82fbffad6",
   "metadata": {},
   "outputs": [
    {
     "data": {
      "text/plain": [
       "{'B-2': 0.2, 'B-1': 0.5, 'B0': 1.9, 'B1': 9.1}"
      ]
     },
     "execution_count": 19,
     "metadata": {},
     "output_type": "execute_result"
    }
   ],
   "source": [
    "ITALGAS_EMISSION_FACTORS"
   ]
  },
  {
   "cell_type": "code",
   "execution_count": 16,
   "id": "c0f11ca5-c8e0-4ed4-939c-88966fdc7c76",
   "metadata": {},
   "outputs": [
    {
     "data": {
      "text/plain": [
       "{'B-2': 0.09, 'B-1': 0.5, 'B0': 2.2, 'B1': 10}"
      ]
     },
     "execution_count": 16,
     "metadata": {},
     "output_type": "execute_result"
    }
   ],
   "source": [
    "bins_dictionary = { 'UNARETI' : {\n",
    "    \"B-2\": 0.09,\n",
    "    \"B-1\": 0.5,\n",
    "    \"B0\": 2.2,\n",
    "    \"B1\": 10,},\n",
    "\n",
    "    'PSG': {\n",
    "    \"B-2\": 0.09,\n",
    "    \"B-1\": 0.5,\n",
    "    \"B0\": 2.2,\n",
    "    \"B1\": 10,},\n",
    "\n",
    "    'APRETIGAS': {\n",
    "    \"B-2\": 0.09,\n",
    "    \"B-1\": 0.5,\n",
    "    \"B0\": 2.2,\n",
    "    \"B1\": 10, },\n",
    "\n",
    "\n",
    "}\n",
    "bins = bins_dictionary.get('UNARETI')\n",
    "bins\n",
    "\n"
   ]
  },
  {
   "cell_type": "code",
   "execution_count": null,
   "id": "f5bb7fcb-044c-4348-a209-ecf4e2935eaf",
   "metadata": {},
   "outputs": [],
   "source": []
  },
  {
   "cell_type": "markdown",
   "id": "9ed02e33-9a5c-4b8d-9be0-841d9da44580",
   "metadata": {},
   "source": [
    "## Get Natural Gas or Possible Natural Gas LISAs"
   ]
  },
  {
   "cell_type": "code",
   "execution_count": null,
   "id": "45538f97-4653-468e-82ac-2da21ef5d453",
   "metadata": {},
   "outputs": [],
   "source": [
    "emission_sources = pd.read_pickle(\n",
    "    f\"data/prepared-leaks-with-emission-sources-{CUSTOMER}-errors.pickle\"\n",
    ")\n",
    "emission_sources.info()\n",
    "emission_sources.head()"
   ]
  },
  {
   "cell_type": "markdown",
   "id": "5a20de85-c3e6-4c4f-b40b-1f0efa7b948f",
   "metadata": {},
   "source": [
    "## Fit Log-Normal Curve to Measured Emissions"
   ]
  },
  {
   "cell_type": "code",
   "execution_count": null,
   "id": "1006b5f3-f747-457d-a1e6-56e4b2d31d8f",
   "metadata": {},
   "outputs": [],
   "source": [
    "shape_measured, _, scale_measured = lognorm.fit(emission_sources.MeasuredSCFH, floc=0)\n",
    "\n",
    "mu_measured_norm = np.log(scale_measured)\n",
    "sigma_measured_norm = shape_measured\n",
    "\n",
    "mu_measured_norm, sigma_measured_norm"
   ]
  },
  {
   "cell_type": "code",
   "execution_count": null,
   "id": "12b31f32-7305-482c-be4d-d2dbf1d78e9f",
   "metadata": {},
   "outputs": [],
   "source": [
    "ax, bins = plot_histogram(\n",
    "    x=np.log(emission_sources.MeasuredSCFH),\n",
    "    title=f\"{CUSTOMER} Measured Emissions\",\n",
    "    x_label=\"$ln$(emission rate)\",\n",
    "    n_bins=\"sqrt\",\n",
    "    label=f\"{CUSTOMER} $ln$(measurements)\",\n",
    ")\n",
    "\n",
    "y_fit = norm.pdf(bins, loc=mu_measured_norm, scale=sigma_measured_norm)\n",
    "\n",
    "ax.plot(\n",
    "    bins,\n",
    "    y_fit,\n",
    "    linewidth=2,\n",
    "    label=f\"{CUSTOMER}\"\n",
    "    + r\" normal: $\\mu={:0.2f}$; $\\sigma={:0.2f}$\".format(\n",
    "        mu_measured_norm, sigma_measured_norm\n",
    "    ),\n",
    ")\n",
    "\n",
    "ax.plot(\n",
    "    bins,\n",
    "    norm.pdf(bins, loc=WSU_MU_NORM, scale=WSU_SIGMA_NORM),\n",
    "    linewidth=2,\n",
    "    label=r\"WSU normal: $\\mu={:0.2f}$; $\\sigma={:0.2f}$\".format(\n",
    "        WSU_MU_NORM, WSU_SIGMA_NORM\n",
    "    ),\n",
    ")\n",
    "\n",
    "ax.legend()"
   ]
  },
  {
   "cell_type": "code",
   "execution_count": null,
   "id": "3ddd59a4-937d-4ed0-9405-3d4dca21bf8b",
   "metadata": {},
   "outputs": [],
   "source": [
    "ax, bins = plot_cdf(\n",
    "    x=emission_sources.MeasuredSCFH,\n",
    "    title=f\"{CUSTOMER} Measured Emissions\",\n",
    "    x_label=r\"emission rate ($\\frac{ft^3}{hr}$)\",\n",
    "    n_bins=100000,\n",
    "    log_x=True,\n",
    "    log_y=False,\n",
    "    label=f\"{CUSTOMER} measurements\",\n",
    "    color=None,\n",
    ")\n",
    "\n",
    "y_fit = lognorm.cdf(bins, s=sigma_measured_norm, scale=np.exp(mu_measured_norm))\n",
    "\n",
    "ax.plot(\n",
    "    bins,\n",
    "    y_fit,\n",
    "    linewidth=2,\n",
    "    label=f\"{CUSTOMER}\"\n",
    "    + r\" log-normal: $\\mu={:0.2f}$; $\\sigma={:0.2f}$\".format(\n",
    "        mu_measured_norm, sigma_measured_norm\n",
    "    ),\n",
    ")\n",
    "\n",
    "ax.plot(\n",
    "    bins,\n",
    "    lognorm.cdf(bins, s=WSU_SIGMA_NORM, scale=np.exp(WSU_MU_NORM)),\n",
    "    linewidth=2,\n",
    "    label=r\"WSU log-normal: $\\mu={:0.2f}$; $\\sigma={:0.2f}$\".format(\n",
    "        WSU_MU_NORM, WSU_SIGMA_NORM\n",
    "    ),\n",
    ")\n",
    "ax.legend()"
   ]
  },
  {
   "cell_type": "markdown",
   "id": "9a171f31-65a2-4d3f-8f58-e8ff563bb877",
   "metadata": {},
   "source": [
    "## Assign Emission Factors"
   ]
  },
  {
   "cell_type": "code",
   "execution_count": null,
   "id": "ed6e803a-b736-4c6f-93d1-a8f6e0bb4633",
   "metadata": {},
   "outputs": [],
   "source": [
    "emission_sources = (\n",
    "    emission_sources.assign(\n",
    "        Bin=pd.cut(\n",
    "            x=emission_sources.MeasuredSCFH,\n",
    "            bins=[0, 0.1, 1, 10, np.inf],\n",
    "            labels=[\"B-2\", \"B-1\", \"B0\", \"B1\"],\n",
    "        )\n",
    "    )\n",
    "    .assign(EmissionFactorInSCFH=lambda x: x.Bin.map(ITALGAS_EMISSION_FACTORS))\n",
    "    .astype(\n",
    "        {\n",
    "            \"Bin\": str,\n",
    "            \"EmissionFactorInSCFH\": float,\n",
    "        }\n",
    "    )\n",
    ")"
   ]
  },
  {
   "cell_type": "markdown",
   "id": "5100aa61-3e60-400e-bf35-2e36b40a1b5f",
   "metadata": {},
   "source": [
    "## Add Liters Per Minute Columns"
   ]
  },
  {
   "cell_type": "code",
   "execution_count": null,
   "id": "3f4ae92c-46da-4d81-9d95-cd98121cd18a",
   "metadata": {},
   "outputs": [],
   "source": [
    "emission_sources[\"EmissionFactorInLPM\"] = (\n",
    "    emission_sources[\"EmissionFactorInSCFH\"] * SCFH_TO_SLPM_FACTOR\n",
    ")\n",
    "\n",
    "emission_sources[[\"EmissionFactorInLPM\"]].value_counts()"
   ]
  },
  {
   "cell_type": "markdown",
   "id": "d98e6839-bf94-428f-9791-9293cdbfe5bd",
   "metadata": {
    "tags": []
   },
   "source": [
    "## Set True and False conditions on the priority score column\n",
    "(meeting on the 12/04/2022)\n",
    "- < 0.06 True\n",
    "- => 0.06 False\n"
   ]
  },
  {
   "cell_type": "code",
   "execution_count": null,
   "id": "ded4338a-7d19-4e46-b9c9-60c0f3708b4d",
   "metadata": {},
   "outputs": [],
   "source": [
    "emission_sources[\"PriorityScore\"] = emission_sources[\"PriorityScore\"] < 0.06\n",
    "emission_sources.info()\n",
    "emission_sources.head()"
   ]
  },
  {
   "cell_type": "markdown",
   "id": "e8fcb52f-a24f-460d-b35b-e47f57bb278b",
   "metadata": {},
   "source": [
    "## Customize Columns for Customer"
   ]
  },
  {
   "cell_type": "code",
   "execution_count": null,
   "id": "3f1dff37-9a05-456e-9530-807758f9982b",
   "metadata": {},
   "outputs": [],
   "source": [
    "emission_sources[\"MeasuredSLPM\"] = (\n",
    "    emission_sources[\"MeasuredSCFH\"] * SCFH_TO_SLPM_FACTOR\n",
    ")"
   ]
  },
  {
   "cell_type": "code",
   "execution_count": null,
   "id": "18365b3d-8e8d-4cf4-918d-87f053e539e7",
   "metadata": {},
   "outputs": [],
   "source": [
    "emission_sources[\"EmissionFactorTimesLeakProbabilityLPM\"] = (\n",
    "    emission_sources[\"LeakProbability\"] * emission_sources[\"EmissionFactorInLPM\"]\n",
    ")"
   ]
  },
  {
   "cell_type": "code",
   "execution_count": null,
   "id": "ba5267ac-ef70-4b07-9ef4-5b2eb94d42aa",
   "metadata": {},
   "outputs": [],
   "source": [
    "emission_sources[\"ReportName\"] = emission_sources[\"ReportId\"].map(\n",
    "    lambda x: \"CR-\" + x[:6].upper()\n",
    ")"
   ]
  },
  {
   "cell_type": "code",
   "execution_count": null,
   "id": "ecf62d0a-f8d4-43bc-ac58-3624e12c21a0",
   "metadata": {},
   "outputs": [],
   "source": [
    "emission_sources[\"LISANumber\"] = (\n",
    "    emission_sources[\"ReportName\"] + \"-\" + emission_sources[\"PeakNumber\"].astype(str)\n",
    ")"
   ]
  },
  {
   "cell_type": "code",
   "execution_count": null,
   "id": "cb8f3ff2-8ba6-4456-b291-ae3d5ccdb98d",
   "metadata": {},
   "outputs": [],
   "source": [
    "emission_sources[\"AssetLengthCoveredKM\"] = (\n",
    "    emission_sources[\"PipelineMeters\"].astype(float)\n",
    "    * emission_sources[\"AssetCoverageFrac\"].astype(float)\n",
    "    / 1000\n",
    ")"
   ]
  },
  {
   "cell_type": "code",
   "execution_count": null,
   "id": "549703ae-c174-4120-8ff1-b8d7b99c3fce",
   "metadata": {},
   "outputs": [],
   "source": [
    "COLUMN_RENAMES = {\n",
    "    \"ReportId\": \"pcubedreportguid\",\n",
    "    \"ReportName\": \"pcubedreportname\",\n",
    "    \"ReportTitle\": \"pcubedreportitle\",\n",
    "    \"DateReportStarted\": \"pcubedreportdate\",\n",
    "    \"PipelineMeters\": \"PipelineMeters\".lower(),\n",
    "    \"AssetLengthCoveredKM\": \"km_in_fov\",\n",
    "    # \"IsFiltered\": \"BelowRRA\",\n",
    "    \"PriorityScore\": \"BelowRRA\",\n",
    "    \"LeakProbability\": \"LeakProbability\".lower(),\n",
    "    \"BoxId\": \"BoxId\".lower(),\n",
    "    # \"LeakGrade\": \"LeakGrade\".lower(),\n",
    "    \"codiceDispersione\": \"LeakGrade\".lower(),\n",
    "    # \"FoundDateTime\": \"FoundDateTime\".lower(),\n",
    "    \"dataLocalizzazione\": \"FoundDateTime\".lower(),\n",
    "    # \"AG/BG\": \"agbg\",\n",
    "    \"aereoInterrato\": \"agbg\",\n",
    "    \"LeakFound\": \"LeakFound\".lower(),\n",
    "    # \"LeakLocation\": \"LeakLocation\".lower(),\n",
    "    \"indirizzoLocalizzazione\": \"LeakLocation\".lower(),\n",
    "    \"LeakLatitude\": \"LeakLatitude\".lower(),\n",
    "    \"LeakLongitude\": \"LeakLongitude\".lower(),\n",
    "    \"MeasuredSCFH\": \"emissionrate_measured_scfh\",\n",
    "    \"MeasuredSLPM\": \"emissionrate_measured_lpm\",\n",
    "    \"Bin\": \"emission_bin\",\n",
    "    \"EmissionFactorInLPM\": \"emission_factor_lpm\",\n",
    "    \"EmissionFactorTimesLeakProbabilityLPM\": \"emissionfactor_leakprob_lpm\",\n",
    "    \"City\": \"City\".lower(),\n",
    "    \"Region\": \"Region\".lower(),\n",
    "}\n",
    "\n",
    "emission_sources = emission_sources.rename(columns=COLUMN_RENAMES)"
   ]
  },
  {
   "cell_type": "code",
   "execution_count": null,
   "id": "49a40d40-bc20-4dc2-a73d-7cb073636a9f",
   "metadata": {},
   "outputs": [],
   "source": [
    "column_order = [\n",
    "    \"pcubedreportguid\",\n",
    "    \"region\",\n",
    "    \"city\",\n",
    "    \"pcubedreportname\",\n",
    "    \"pcubedreportitle\",\n",
    "    \"pcubedreportdate\",\n",
    "    \"PipelineMeters\".lower(),\n",
    "    \"AssetCoverageFrac\",\n",
    "    \"km_in_fov\",\n",
    "    \"EmissionSourceId\",\n",
    "    \"CH4\",\n",
    "    \"MaxAmplitude\",\n",
    "    \"EthaneRatio\",\n",
    "    \"EthaneRatioUncertainty\",\n",
    "    \"Disposition\",\n",
    "    \"ClassificationConfidence\",\n",
    "    \"LISANumber\",\n",
    "    \"BelowRRA\",\n",
    "    \"GpsLatitude\",\n",
    "    \"GpsLongitude\",\n",
    "    \"LeakProbability\".lower(),\n",
    "    \"BoxId\".lower(),\n",
    "    \"LeakGrade\".lower(),\n",
    "    \"FoundDateTime\".lower(),\n",
    "    \"agbg\",\n",
    "    \"LeakFound\".lower(),\n",
    "    \"LeakLocation\".lower(),\n",
    "    \"LeakLatitude\".lower(),\n",
    "    \"LeakLongitude\".lower(),\n",
    "    \"emissionrate_measured_scfh\",\n",
    "    \"emissionrate_measured_lpm\",\n",
    "    \"emission_bin\",\n",
    "    \"emission_factor_lpm\",\n",
    "    \"emissionfactor_leakprob_lpm\",\n",
    "]\n",
    "\n",
    "emission_sources = emission_sources[column_order]\n",
    "emission_sources.info()\n",
    "emission_sources.head()"
   ]
  },
  {
   "cell_type": "markdown",
   "id": "0c77ff26-7e98-46bd-883b-a503e66071e5",
   "metadata": {},
   "source": [
    "## Save for Customer"
   ]
  },
  {
   "cell_type": "code",
   "execution_count": null,
   "id": "3b345810-c6f8-45c2-ad95-7be23d942767",
   "metadata": {},
   "outputs": [],
   "source": [
    "emission_sources.to_csv(\n",
    "    f\"data/leaks-with-emission-factors-{CUSTOMER}_report_CR-763DCC_CR-2AE499_.csv\",\n",
    "    index=False,\n",
    ")"
   ]
  },
  {
   "cell_type": "code",
   "execution_count": null,
   "id": "fcbaff69-282e-4125-9746-891554f38ef9",
   "metadata": {},
   "outputs": [],
   "source": []
  },
  {
   "cell_type": "code",
   "execution_count": null,
   "id": "4fb63b01-d2b3-43a5-965f-0eb5abcf38a1",
   "metadata": {},
   "outputs": [],
   "source": []
  },
  {
   "cell_type": "markdown",
   "id": "caaea2ab-1150-4ba7-83a5-b5e741659893",
   "metadata": {},
   "source": [
    "# For June 2022"
   ]
  },
  {
   "cell_type": "code",
   "execution_count": null,
   "id": "2756e8cf-38f6-4aed-a0e5-59b3c911396e",
   "metadata": {},
   "outputs": [],
   "source": [
    "emission_sources_big = pd.read_csv(\n",
    "    \"data/leaks-with-emission-factors-italgas_until_June_29.csv\"\n",
    ")"
   ]
  },
  {
   "cell_type": "code",
   "execution_count": null,
   "id": "8d9a6c6a-a715-45b5-b1f9-a1ea56a523d2",
   "metadata": {},
   "outputs": [],
   "source": [
    "emission_sources_big.info()"
   ]
  },
  {
   "cell_type": "code",
   "execution_count": null,
   "id": "d5cf875a-3cf5-4a2c-8a07-d06dc371ce95",
   "metadata": {},
   "outputs": [],
   "source": [
    "frames = [emission_sources_big, emission_sources]\n",
    "emission_sources_final = pd.concat(frames)\n",
    "emission_sources_final.to_csv(\n",
    "    f\"data/leaks-with-emission-factors-{CUSTOMER}_report_until_June_702_reports.csv\",\n",
    "    index=False,\n",
    ")"
   ]
  },
  {
   "cell_type": "code",
   "execution_count": null,
   "id": "a7566a23-3cb7-4762-b4fe-3cbd46c527d9",
   "metadata": {},
   "outputs": [],
   "source": []
  }
 ],
 "metadata": {
  "kernelspec": {
   "display_name": "Python 3 (ipykernel)",
   "language": "python",
   "name": "python3"
  },
  "language_info": {
   "codemirror_mode": {
    "name": "ipython",
    "version": 3
   },
   "file_extension": ".py",
   "mimetype": "text/x-python",
   "name": "python",
   "nbconvert_exporter": "python",
   "pygments_lexer": "ipython3",
   "version": "3.9.13"
  }
 },
 "nbformat": 4,
 "nbformat_minor": 5
}
