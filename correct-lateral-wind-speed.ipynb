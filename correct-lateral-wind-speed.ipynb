{
 "cells": [
  {
   "cell_type": "code",
   "execution_count": null,
   "id": "e96ac579",
   "metadata": {
    "pycharm": {
     "is_executing": true
    }
   },
   "outputs": [],
   "source": [
    "%load_ext dotenv\n",
    "%dotenv\n",
    "%load_ext lab_black\n",
    "%load_ext autoreload\n",
    "%autoreload 2\n",
    "\n",
    "import matplotlib.pyplot as plt\n",
    "from datetime import datetime\n",
    "import glob\n",
    "import numpy as np\n",
    "import pandas as pd\n",
    "from common import (\n",
    "    create_peak_query,\n",
    "    query_mssql_iteratively,\n",
    "    get_measurements,\n",
    "    create_survey_query,\n",
    ")\n",
    "from config import CUSTOMER\n",
    "\n",
    "pd.options.mode.chained_assignment = None\n",
    "plt.rcParams.update({\"font.size\": 14})"
   ]
  },
  {
   "cell_type": "code",
   "execution_count": null,
   "id": "8fa6a998-82ce-4ae7-86d9-fec35222b6b4",
   "metadata": {},
   "outputs": [],
   "source": [
    "CUSTOMER"
   ]
  },
  {
   "cell_type": "code",
   "execution_count": null,
   "id": "14d12856-9120-4d4f-8c11-45280a4eb802",
   "metadata": {},
   "outputs": [],
   "source": [
    "## NOTA: PER LUGLIO DEVI TOGLIERE -errors dal nome"
   ]
  },
  {
   "cell_type": "code",
   "execution_count": null,
   "id": "cfc6b5f3-491a-48a2-b571-56edc65e76c8",
   "metadata": {},
   "outputs": [],
   "source": [
    "emission_sources = pd.read_pickle(\n",
    "    f\"data/non-reprocessed-emission-sources-{CUSTOMER}.pickle\"\n",
    ")\n",
    "\n",
    "emission_source_ids = emission_sources.EmissionSourceId.drop_duplicates()\n",
    "emission_sources.info()"
   ]
  },
  {
   "cell_type": "code",
   "execution_count": null,
   "id": "baa757fd",
   "metadata": {},
   "outputs": [],
   "source": [
    "peaks = query_mssql_iteratively(emission_source_ids, create_peak_query)\n",
    "\n",
    "peaks.info()\n",
    "peaks.head()"
   ]
  },
  {
   "cell_type": "code",
   "execution_count": null,
   "id": "8df9bc04",
   "metadata": {},
   "outputs": [],
   "source": [
    "survey_ids = emission_sources[\"SurveyId\"].drop_duplicates()\n",
    "\n",
    "surveys = query_mssql_iteratively(survey_ids, create_survey_query)\n",
    "\n",
    "surveys.info()\n",
    "surveys.head()"
   ]
  },
  {
   "cell_type": "code",
   "execution_count": null,
   "id": "bb5cb7fe",
   "metadata": {},
   "outputs": [],
   "source": [
    "for j, survey in surveys.iterrows():\n",
    "    start = datetime.now()\n",
    "\n",
    "    measurements = get_measurements(\n",
    "        survey[\"AnalyzerId\"], survey[\"StartEpoch\"], survey[\"EndEpoch\"]\n",
    "    )\n",
    "    peaks_slice = peaks[peaks[\"SurveyId\"] == survey[\"SurveyId\"]]\n",
    "\n",
    "    ws_lat = []\n",
    "    ws_lon = []\n",
    "    wind_inst_e = []\n",
    "    wind_inst_n = []\n",
    "    ws_rotation = []\n",
    "\n",
    "    for i, row in peaks_slice.iterrows():\n",
    "        measurements_subslice = measurements[\n",
    "            (measurements[\"EpochTime\"] >= row[\"PlumeEpochStart\"])\n",
    "            & (measurements[\"EpochTime\"] <= row[\"PlumeEpochEnd\"])\n",
    "        ]\n",
    "        ws_lat.append(measurements_subslice[\"WindSpeedLateral\"].median())\n",
    "        ws_lon.append(measurements_subslice[\"WindSpeedLongitudinal\"].median())\n",
    "        wind_inst_e.append(measurements_subslice[\"WindInstEast\"].median())\n",
    "        wind_inst_n.append(measurements_subslice[\"WindInstNorth\"].median())\n",
    "        ws_rotation.append(measurements_subslice[\"WeatherStationRotation\"].median())\n",
    "\n",
    "    peaks_slice[\"WS_LAT\"] = ws_lat\n",
    "    peaks_slice[\"WS_LON\"] = ws_lat\n",
    "    peaks_slice[\"WIND_INST_E\"] = wind_inst_e\n",
    "    peaks_slice[\"WIND_INST_N\"] = wind_inst_n\n",
    "    peaks_slice[\"WS_ROTATION\"] = ws_rotation\n",
    "\n",
    "    peaks_slice.to_csv(\n",
    "        f\"wind_speed_rotations/2022_missing_reports/{CUSTOMER}-survey-{survey['SurveyId']}.csv\"\n",
    "    )\n",
    "    print(f\"Completed Survey {j + 1} of {len(surveys)} in {datetime.now() - start}\")"
   ]
  },
  {
   "cell_type": "code",
   "execution_count": null,
   "id": "681882bd",
   "metadata": {},
   "outputs": [],
   "source": [
    "peak_files = glob.glob(\n",
    "    f\"wind_speed_rotations/2022_missing_reports/{CUSTOMER}-survey-*.csv\"\n",
    ")\n",
    "peak_dfs = []\n",
    "for f in peak_files:\n",
    "    df_temp = pd.read_csv(f)\n",
    "    peak_dfs.append(df_temp)\n",
    "peaks_from_raw_data = pd.concat(peak_dfs)\n",
    "peaks_from_raw_data"
   ]
  },
  {
   "cell_type": "code",
   "execution_count": null,
   "id": "170e2e7c",
   "metadata": {
    "collapsed": false,
    "jupyter": {
     "outputs_hidden": false
    },
    "pycharm": {
     "name": "#%%\n"
    }
   },
   "outputs": [],
   "source": [
    "peaks_from_raw_data.info()"
   ]
  },
  {
   "cell_type": "code",
   "execution_count": null,
   "id": "ab4f3437-f225-4b1f-9592-9eb4255eb36f",
   "metadata": {},
   "outputs": [],
   "source": [
    "ax = (\n",
    "    peaks_from_raw_data.set_index(\"EpochTime\")\n",
    "    .sort_index()[\"WS_ROTATION\"]\n",
    "    .plot(figsize=(12, 10))\n",
    ")"
   ]
  },
  {
   "cell_type": "code",
   "execution_count": null,
   "id": "1c13ae9e-e75a-461d-905c-a7473eb47ebc",
   "metadata": {},
   "outputs": [],
   "source": [
    "peaks_from_raw_data.head()"
   ]
  },
  {
   "cell_type": "code",
   "execution_count": null,
   "id": "27e56966",
   "metadata": {},
   "outputs": [],
   "source": [
    "inlet_scaling = 1.5\n",
    "unit_factor = 0.1272\n",
    "\n",
    "car_vector = [\n",
    "    (i + 1j * j)\n",
    "    for i, j in zip(\n",
    "        peaks_from_raw_data[\"CarSpeedNorth\"].values,\n",
    "        peaks_from_raw_data[\"CarSpeedEast\"].values,\n",
    "    )\n",
    "]\n",
    "\n",
    "peaks_from_raw_data[\"CAR_SPEED_COMPONENT_IN_WIND\"] = np.absolute(car_vector) * np.sin(\n",
    "    np.radians(peaks_from_raw_data[\"WS_ROTATION\"])\n",
    ")\n",
    "\n",
    "peaks_from_raw_data[\"WS_LAT_CORRECTED\"] = (\n",
    "    peaks_from_raw_data[\"WS_LAT\"] - peaks_from_raw_data[\"CAR_SPEED_COMPONENT_IN_WIND\"]\n",
    ")\n",
    "\n",
    "peaks_from_raw_data[\"PlumeEmissionRate_CORRECTED\"] = (\n",
    "    np.abs(peaks_from_raw_data[\"WS_LAT_CORRECTED\"])\n",
    "    * peaks_from_raw_data[\"LineIntegral\"]\n",
    "    * inlet_scaling\n",
    "    * unit_factor\n",
    ")\n",
    "\n",
    "total_plume_emission_rate = peaks_from_raw_data[\"PCubedPlumeEmissionRate\"].sum()\n",
    "total_plume_emission_rate_corrected = peaks_from_raw_data[\n",
    "    \"PlumeEmissionRate_CORRECTED\"\n",
    "].sum()\n",
    "print(total_plume_emission_rate)\n",
    "print(total_plume_emission_rate_corrected)\n",
    "pct_change_plume_emission = (\n",
    "    100\n",
    "    * (total_plume_emission_rate_corrected - total_plume_emission_rate)\n",
    "    / total_plume_emission_rate\n",
    ")\n",
    "print(f\"% change in total plume emission rate: {pct_change_plume_emission}\")\n",
    "\n",
    "bins = np.linspace(-2, 2, 201)\n",
    "plt.hist(peaks_from_raw_data[\"WS_LAT\"], bins=bins, histtype=\"step\", label=\"WS_LAT\")\n",
    "plt.hist(\n",
    "    peaks_from_raw_data[\"WS_LAT_CORRECTED\"],\n",
    "    bins=bins,\n",
    "    histtype=\"step\",\n",
    "    label=\"WS_LAT_CORRECTED\",\n",
    ")\n",
    "plt.legend()\n",
    "plt.grid()\n",
    "plt.show()\n",
    "\n",
    "bins_log = np.logspace(-3, 3, num=70, endpoint=True, base=10.0, dtype=None, axis=0)\n",
    "plt.hist(\n",
    "    peaks_from_raw_data[\"PCubedPlumeEmissionRate\"],\n",
    "    bins=bins_log,\n",
    "    histtype=\"step\",\n",
    "    density=False,\n",
    "    cumulative=False,\n",
    "    label=\"PlumeEmissionRate\",\n",
    ")\n",
    "plt.hist(\n",
    "    peaks_from_raw_data[\"PlumeEmissionRate_CORRECTED\"],\n",
    "    bins=bins_log,\n",
    "    histtype=\"step\",\n",
    "    density=False,\n",
    "    cumulative=False,\n",
    "    label=\"PlumeEmissionRate_CORRECTED\",\n",
    ")\n",
    "plt.semilogx()\n",
    "plt.legend()\n",
    "plt.grid()\n",
    "plt.show()"
   ]
  },
  {
   "cell_type": "code",
   "execution_count": null,
   "id": "0ecac5a4-4dea-431b-b70b-0ebde530204b",
   "metadata": {},
   "outputs": [],
   "source": [
    "peaks_from_raw_data.to_csv(\n",
    "    f\"wind_speed_rotations/corrected-peak-emissions-{CUSTOMER}-errors.csv\"\n",
    ")"
   ]
  },
  {
   "cell_type": "code",
   "execution_count": null,
   "id": "d01f59d0-6d04-4beb-80ed-50f9342575e6",
   "metadata": {},
   "outputs": [],
   "source": []
  }
 ],
 "metadata": {
  "kernelspec": {
   "display_name": "Python 3 (ipykernel)",
   "language": "python",
   "name": "python3"
  },
  "language_info": {
   "codemirror_mode": {
    "name": "ipython",
    "version": 3
   },
   "file_extension": ".py",
   "mimetype": "text/x-python",
   "name": "python",
   "nbconvert_exporter": "python",
   "pygments_lexer": "ipython3",
   "version": "3.9.13"
  }
 },
 "nbformat": 4,
 "nbformat_minor": 5
}
