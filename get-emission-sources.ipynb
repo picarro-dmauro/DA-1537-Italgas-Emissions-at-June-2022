{
 "cells": [
  {
   "cell_type": "code",
   "execution_count": null,
   "id": "37a563c9-4c75-4264-9219-7abec9598102",
   "metadata": {},
   "outputs": [],
   "source": [
    "%load_ext dotenv\n",
    "%dotenv\n",
    "%load_ext lab_black\n",
    "%load_ext autoreload\n",
    "%autoreload 2\n",
    "\n",
    "import matplotlib.pyplot as plt\n",
    "import pandas as pd\n",
    "from common import (\n",
    "    format_ax,\n",
    "    query_mssql_iteratively,\n",
    "    create_emission_source_query,\n",
    "    PASSWORD,\n",
    ")\n",
    "from config import CUSTOMER, FINAL_REPORTS_PATH, FINAL_REPORT_COLUMN"
   ]
  },
  {
   "cell_type": "code",
   "execution_count": null,
   "id": "7088c1bf-aeb3-435f-8c35-7775eb3cf41b",
   "metadata": {},
   "outputs": [],
   "source": [
    "CUSTOMER"
   ]
  },
  {
   "cell_type": "markdown",
   "id": "14cffb68-0608-4d32-9fe5-fae20457e201",
   "metadata": {},
   "source": [
    "# Get the emission sources for the reports that have a "
   ]
  },
  {
   "cell_type": "code",
   "execution_count": null,
   "id": "ebb15d94-f1e6-4f54-be37-39a92ad9e679",
   "metadata": {},
   "outputs": [],
   "source": [
    "report_prefixes_with_error_2021 = pd.Series(\n",
    "    [\"763DCC\", \"2AE499\"]\n",
    ")  # From Francesco Ciocca"
   ]
  },
  {
   "cell_type": "code",
   "execution_count": null,
   "id": "6d8cd7a9-de12-4f67-9459-de80772f95cb",
   "metadata": {},
   "outputs": [],
   "source": [
    "emission_sources_with_error_2021 = query_mssql_iteratively(\n",
    "    query_parameters=report_prefixes_with_error_2021,\n",
    "    query_function=create_emission_source_query,\n",
    ")\n",
    "emission_sources_with_error_2021.info()\n",
    "emission_sources_with_error_2021.head()\n",
    "emission_sources_with_error_2021.nunique()"
   ]
  },
  {
   "cell_type": "code",
   "execution_count": null,
   "id": "41b84116-070c-44d7-9b8c-9a37fa7c728e",
   "metadata": {},
   "outputs": [],
   "source": [
    "emission_sources_with_error_2021.head()"
   ]
  },
  {
   "cell_type": "code",
   "execution_count": null,
   "id": "cd9a6a0e-28fb-4e78-a403-014c57677a9d",
   "metadata": {},
   "outputs": [],
   "source": [
    "emission_sources_2022 = emission_sources_with_error_2021.query(\"Year == 2022\")\n",
    "len(emission_sources_2022)"
   ]
  },
  {
   "cell_type": "code",
   "execution_count": null,
   "id": "6793c7e7-7494-43d4-ac93-760543ec6219",
   "metadata": {},
   "outputs": [],
   "source": [
    "emission_sources_2022.to_pickle(\n",
    "    f\"data/non-reprocessed-emission-sources-{CUSTOMER}-errors.pickle\"\n",
    ")"
   ]
  },
  {
   "cell_type": "code",
   "execution_count": null,
   "id": "5a125663-4886-457d-92cc-317195e16519",
   "metadata": {},
   "outputs": [],
   "source": []
  },
  {
   "cell_type": "code",
   "execution_count": null,
   "id": "9666870b-729d-41e1-9117-d516c3919b9c",
   "metadata": {},
   "outputs": [],
   "source": []
  },
  {
   "cell_type": "code",
   "execution_count": null,
   "id": "8573ebc6-814f-4831-96f8-a07e4314b9f2",
   "metadata": {},
   "outputs": [],
   "source": []
  },
  {
   "cell_type": "markdown",
   "id": "8e68a42e-a010-4550-86ce-77c567041f55",
   "metadata": {},
   "source": [
    "## Get Emission Sources"
   ]
  },
  {
   "cell_type": "code",
   "execution_count": null,
   "id": "24ea57e6-f40f-401f-9f16-e670e2123ccf",
   "metadata": {},
   "outputs": [],
   "source": [
    "report_prefixes = (\n",
    "    pd.read_excel(\n",
    "        FINAL_REPORTS_PATH,\n",
    "    )[FINAL_REPORT_COLUMN]\n",
    "    .str.split(\"-\")\n",
    "    .map(lambda x: x[-1])\n",
    ")\n",
    "\n",
    "assert len(report_prefixes) == report_prefixes.nunique()"
   ]
  },
  {
   "cell_type": "code",
   "execution_count": null,
   "id": "c4beeb25-6436-45d3-85b9-ec46820326fa",
   "metadata": {},
   "outputs": [],
   "source": [
    "report_prefixes.nunique()"
   ]
  },
  {
   "cell_type": "code",
   "execution_count": null,
   "id": "56f16607-e70c-4dd2-80a4-9c50b7244ba3",
   "metadata": {},
   "outputs": [],
   "source": [
    "emission_sources = query_mssql_iteratively(\n",
    "    query_parameters=report_prefixes, query_function=create_emission_source_query\n",
    ")\n",
    "emission_sources.info()\n",
    "emission_sources.head()\n",
    "emission_sources.nunique()"
   ]
  },
  {
   "cell_type": "code",
   "execution_count": null,
   "id": "e73ba565-f966-47c5-afe8-2d28920ae7f4",
   "metadata": {},
   "outputs": [],
   "source": [
    "reports_2021 = emission_sources.query(\"Year == 2021\").ReportId.unique()\n",
    "emission_sources = (\n",
    "    emission_sources.set_index(\"ReportId\").drop(reports_2021).reset_index()\n",
    ")\n",
    "print(len(reports_2021))"
   ]
  },
  {
   "cell_type": "code",
   "execution_count": null,
   "id": "b4d2ce75-f2df-4a60-971e-d533b43e8767",
   "metadata": {},
   "outputs": [],
   "source": [
    "assert emission_sources.Year.unique() == 2022\n",
    "assert str(emission_sources.Customer.unique().squeeze()).lower() == CUSTOMER"
   ]
  },
  {
   "cell_type": "code",
   "execution_count": null,
   "id": "d3b1ffa4-1fec-4029-8e45-2e312f311de9",
   "metadata": {},
   "outputs": [],
   "source": [
    "emission_sources.to_pickle(\n",
    "    f\"data/non-reprocessed-emission-sources-{CUSTOMER}-June.pickle\"\n",
    ")"
   ]
  },
  {
   "cell_type": "code",
   "execution_count": null,
   "id": "e6c22fda-733c-4925-ac05-8c0ffdbe92c4",
   "metadata": {},
   "outputs": [],
   "source": []
  },
  {
   "cell_type": "code",
   "execution_count": null,
   "id": "06ae840f-c12f-481b-a98f-674e2677771a",
   "metadata": {},
   "outputs": [],
   "source": []
  },
  {
   "cell_type": "code",
   "execution_count": null,
   "id": "8308b085-8bcb-4c4a-a6a0-3a29062ad07e",
   "metadata": {},
   "outputs": [],
   "source": []
  },
  {
   "cell_type": "code",
   "execution_count": null,
   "id": "3a5ea023-ca33-4af1-b8af-b0544c653030",
   "metadata": {},
   "outputs": [],
   "source": []
  },
  {
   "cell_type": "markdown",
   "id": "aabd6c0a-4e9f-44fd-9b8d-342cc21c58db",
   "metadata": {},
   "source": []
  },
  {
   "cell_type": "code",
   "execution_count": null,
   "id": "5a3f3d9f-82fd-4723-a919-ed083e8b2a08",
   "metadata": {},
   "outputs": [],
   "source": []
  },
  {
   "cell_type": "code",
   "execution_count": null,
   "id": "b71a1950-f487-4e8f-a1cb-7aec14987e3f",
   "metadata": {},
   "outputs": [],
   "source": []
  },
  {
   "cell_type": "code",
   "execution_count": null,
   "id": "418942a3-26d5-47c5-b28a-9d2559ccd2ff",
   "metadata": {},
   "outputs": [],
   "source": []
  },
  {
   "cell_type": "code",
   "execution_count": null,
   "id": "cc415de9-59eb-4ff1-86d9-61aad4e2c04f",
   "metadata": {},
   "outputs": [],
   "source": []
  }
 ],
 "metadata": {
  "kernelspec": {
   "display_name": "Python 3 (ipykernel)",
   "language": "python",
   "name": "python3"
  },
  "language_info": {
   "codemirror_mode": {
    "name": "ipython",
    "version": 3
   },
   "file_extension": ".py",
   "mimetype": "text/x-python",
   "name": "python",
   "nbconvert_exporter": "python",
   "pygments_lexer": "ipython3",
   "version": "3.9.13"
  }
 },
 "nbformat": 4,
 "nbformat_minor": 5
}
