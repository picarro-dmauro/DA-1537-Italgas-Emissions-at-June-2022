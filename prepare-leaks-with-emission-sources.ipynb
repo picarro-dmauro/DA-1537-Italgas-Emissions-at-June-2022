{
 "cells": [
  {
   "cell_type": "code",
   "execution_count": 1,
   "id": "5db1f94b-9754-4a87-8cc9-bc119ffaec80",
   "metadata": {},
   "outputs": [],
   "source": [
    "%load_ext lab_black\n",
    "%load_ext autoreload\n",
    "%autoreload 2\n",
    "\n",
    "import numpy as np\n",
    "import pandas as pd\n",
    "import geopandas\n",
    "from datetime import date, timedelta\n",
    "from common import (\n",
    "    query_mssql_iteratively,\n",
    "    get_elastic_index,\n",
    "    SCFH_TO_SLPM_FACTOR,\n",
    "    P_CUBED_CRS,\n",
    "    create_emission_source_query_report_id,  ## added to get the Report Id\n",
    ")\n",
    "from config import (\n",
    "    CUSTOMER,\n",
    "    GLOBAL_LISA_TO_LEAK_CONVERSION_RATE,\n",
    "    SUPER_EMITTER_SLPM,\n",
    "    ITALY_PROJECTION_COORD_REF_SYSTEM,\n",
    ")"
   ]
  },
  {
   "cell_type": "code",
   "execution_count": 2,
   "id": "7703c1e6-47a2-4508-9ec6-5065d9a40706",
   "metadata": {},
   "outputs": [
    {
     "data": {
      "text/plain": [
       "'italgas'"
      ]
     },
     "execution_count": 2,
     "metadata": {},
     "output_type": "execute_result"
    }
   ],
   "source": [
    "CUSTOMER"
   ]
  },
  {
   "cell_type": "markdown",
   "id": "6b46b255-6a93-4a69-ba7f-c4a139a14c7e",
   "metadata": {},
   "source": [
    "## Get Emission Sources"
   ]
  },
  {
   "cell_type": "markdown",
   "id": "2367a248-c2d7-40a8-8e30-ee3dc6f2ef67",
   "metadata": {},
   "source": [
    "# Load old emissions from previous month"
   ]
  },
  {
   "cell_type": "code",
   "execution_count": null,
   "id": "e19c3095-ca95-4e72-a282-4904f71a3f48",
   "metadata": {},
   "outputs": [],
   "source": [
    "current_month_emissions = pd.read_pickle(\n",
    "    f\"data/non-reprocessed-emission-sources-{CUSTOMER}-June.pickle\"\n",
    ")\n",
    "current_month_emissions.info()\n",
    "current_month_emissions.head()"
   ]
  },
  {
   "cell_type": "code",
   "execution_count": null,
   "id": "c14f3d77-d63b-4709-ae98-712072130eeb",
   "metadata": {},
   "outputs": [],
   "source": [
    "current_month_emissions.nunique()"
   ]
  },
  {
   "cell_type": "markdown",
   "id": "35f12b04-62d8-437a-9a39-b52d71fb6615",
   "metadata": {},
   "source": [
    "### If Re-Processed Emission Sources"
   ]
  },
  {
   "cell_type": "code",
   "execution_count": null,
   "id": "11dbf7b5-d82f-4dde-aa20-77d8f1293df6",
   "metadata": {},
   "outputs": [],
   "source": [
    "# emission_sources_recalculated = pd.read_pickle(\n",
    "#     f\"data/non-reprocessed-emission-sources-recalculated{CUSTOMER}-errors.pickle\"\n",
    "# )\n",
    "# print(emission_sources_recalculated[\"ReportId\"].nunique())\n",
    "# emission_sources_recalculated.info()\n",
    "# emission_sources_recalculated.head(8)\n",
    "emission_sources = pd.read_pickle(\n",
    "    f\"data/non-reprocessed-emission-sources-recalculated{CUSTOMER}-errors.pickle\"\n",
    ")\n",
    "print(emission_sources[\"ReportId\"].nunique())\n",
    "emission_sources.info()\n",
    "emission_sources.head(8)"
   ]
  },
  {
   "cell_type": "code",
   "execution_count": null,
   "id": "59614ee7-b685-47c6-9ad0-869c2401f3a2",
   "metadata": {},
   "outputs": [],
   "source": [
    "emission_sources_recalculated[\n",
    "    emission_sources_recalculated[[\"ReportId\", \"PeakNumber\"]].duplicated()\n",
    "]\n",
    "print(emission_sources_recalculated[\"ReportId\"].nunique())"
   ]
  },
  {
   "cell_type": "markdown",
   "id": "8cff62a1-f4e8-41e2-8710-b1c7347e9da8",
   "metadata": {},
   "source": [
    "# Concatenate the two dataframes"
   ]
  },
  {
   "cell_type": "code",
   "execution_count": null,
   "id": "11cced12-6554-41c8-bba3-10416963e8bc",
   "metadata": {},
   "outputs": [],
   "source": [
    "frames = [emission_sources_recalculated, current_month_emissions]\n",
    "emission_sources = pd.concat(frames)\n",
    "\n",
    "emission_sources.info()\n",
    "emission_sources.head()"
   ]
  },
  {
   "cell_type": "code",
   "execution_count": null,
   "id": "fbbac562-4101-45aa-8cb5-e8a408f1808e",
   "metadata": {},
   "outputs": [],
   "source": [
    "emission_sources.nunique()"
   ]
  },
  {
   "cell_type": "markdown",
   "id": "afbab150-c9b1-4710-aae5-e43075e9eff5",
   "metadata": {},
   "source": [
    "## Convert to Datetime"
   ]
  },
  {
   "cell_type": "code",
   "execution_count": null,
   "id": "e25abb22-6152-4469-be5b-17f48b86e9f7",
   "metadata": {},
   "outputs": [],
   "source": [
    "emission_sources = emission_sources.rename(\n",
    "    columns={\n",
    "        \"PlumeEpochEnd\": \"SurveyEndDateTime\",\n",
    "        \"PlumeEpochStart\": \"DateReportStarted\",\n",
    "    }\n",
    ")\n",
    "\n",
    "emission_sources[\"DateReportStarted\"] = pd.to_datetime(\n",
    "    emission_sources[\"DateReportStarted\"]\n",
    ")\n",
    "emission_sources[\"SurveyEndDateTime\"] = pd.to_datetime(\n",
    "    emission_sources[\"SurveyEndDateTime\"]\n",
    ")"
   ]
  },
  {
   "cell_type": "code",
   "execution_count": null,
   "id": "70a2f4bf-0d9c-4d03-8eb5-19f4d91a963e",
   "metadata": {},
   "outputs": [],
   "source": [
    "emission_sources.head()"
   ]
  },
  {
   "cell_type": "markdown",
   "id": "278c60c6-047c-4e85-8c06-684e5fdf03d1",
   "metadata": {},
   "source": [
    "## Get Leak Investigations"
   ]
  },
  {
   "cell_type": "code",
   "execution_count": 3,
   "id": "e5336254-1889-406e-9e97-571b5eaed749",
   "metadata": {},
   "outputs": [
    {
     "name": "stderr",
     "output_type": "stream",
     "text": [
      "/home/ubuntu/miniconda3/envs/linux-analytics/lib/python3.9/site-packages/elasticsearch/connection/http_urllib3.py:209: UserWarning: Connecting to https://20.80.30.39:9200 using SSL with verify_certs=False is insecure.\n",
      "  warnings.warn(\n"
     ]
    }
   ],
   "source": [
    "if CUSTOMER == \"italgas\":\n",
    "    # elasticsearch_index = \"italgas_leak_investigation\"\n",
    "    elasticsearch_index = \"italgas_g2g_leak_investigation\"\n",
    "elif CUSTOMER == \"toscana energia\":\n",
    "    elasticsearch_index = \"toscana_leak_investigation\"\n",
    "else:\n",
    "    raise ValueError(\"CUSTOMER should be 'italgas' or 'toscana energia'\")\n",
    "\n",
    "\n",
    "leak_investigations_raw = get_elastic_index(elasticsearch_index)"
   ]
  },
  {
   "cell_type": "code",
   "execution_count": 4,
   "id": "bef25e83-d323-436d-bebd-76ae3d06a220",
   "metadata": {},
   "outputs": [
    {
     "name": "stdout",
     "output_type": "stream",
     "text": [
      "<class 'pandas.core.frame.DataFrame'>\n",
      "RangeIndex: 68221 entries, 0 to 68220\n",
      "Data columns (total 67 columns):\n",
      " #   Column                              Non-Null Count  Dtype \n",
      "---  ------                              --------------  ----- \n",
      " 0   leakId                              68221 non-null  object\n",
      " 1   numProgressivo                      68221 non-null  object\n",
      " 2   lisa                                68221 non-null  object\n",
      " 3   aereoInterrato                      68221 non-null  object\n",
      " 4   codiceDispersione                   68221 non-null  object\n",
      " 5   codStato                            68221 non-null  object\n",
      " 6   statoFoglietta                      68221 non-null  object\n",
      " 7   codValidazione                      68221 non-null  object\n",
      " 8   statoValidazione                    68221 non-null  object\n",
      " 9   intervento                          68221 non-null  object\n",
      " 10  dataInserimento                     68221 non-null  object\n",
      " 11  dataArrivoSulCampo                  68221 non-null  object\n",
      " 12  dataLocalizzazione                  68221 non-null  object\n",
      " 13  dataRiparazione                     68221 non-null  object\n",
      " 14  cap                                 68221 non-null  object\n",
      " 15  comune                              68221 non-null  object\n",
      " 16  indirizzo                           68221 non-null  object\n",
      " 17  indirizzoLisa                       68221 non-null  object\n",
      " 18  indirizzoLocalizzazione             68221 non-null  object\n",
      " 19  indirizzoRiparazione                68221 non-null  object\n",
      " 20  dataUltimaMod                       68221 non-null  object\n",
      " 21  picarroLastUpdated                  68221 non-null  object\n",
      " 22  reportId                            68221 non-null  object\n",
      " 23  lisaId                              68221 non-null  object\n",
      " 24  LeakFound                           68221 non-null  object\n",
      " 25  BoundaryName                        68221 non-null  object\n",
      " 26  Region                              68221 non-null  object\n",
      " 27  City                                68221 non-null  object\n",
      " 28  PCubedReportName                    68221 non-null  object\n",
      " 29  PCubedReportGuid                    68221 non-null  object\n",
      " 30  LastSurveyDate                      68221 non-null  object\n",
      " 31  LastSurveyDateStr                   68221 non-null  object\n",
      " 32  PCubedReportTitle                   68221 non-null  object\n",
      " 33  PCubedReportDate                    68221 non-null  object\n",
      " 34  PCubedReportDateStr                 68221 non-null  object\n",
      " 35  AssetCoverageFrac                   68221 non-null  object\n",
      " 36  PipelineMeters                      68221 non-null  object\n",
      " 37  BoxId                               68221 non-null  object\n",
      " 38  SurveyorUnitName                    68221 non-null  object\n",
      " 39  PeakEpoch                           68221 non-null  object\n",
      " 40  DrivingStatus                       68221 non-null  object\n",
      " 41  Amplitude                           68221 non-null  object\n",
      " 42  CH4                                 68221 non-null  object\n",
      " 43  AggregatedEthaneRatio               68221 non-null  object\n",
      " 44  AggregatedDisposition               68221 non-null  object\n",
      " 45  AggregatedClassificationConfidence  68221 non-null  object\n",
      " 46  PeakNumber                          68221 non-null  object\n",
      " 47  EthaneRatioSdev                     68221 non-null  object\n",
      " 48  Sigma                               68221 non-null  object\n",
      " 49  PriorityScore                       68221 non-null  object\n",
      " 50  EmissionRate                        68221 non-null  object\n",
      " 51  EmissionRateUpperBound              68221 non-null  object\n",
      " 52  EmissionRateLowerBound              68221 non-null  object\n",
      " 53  UpdateTimeString                    68221 non-null  object\n",
      " 54  type1coverage                       68221 non-null  object\n",
      " 55  contract                            68221 non-null  object\n",
      " 56  assignment                          68221 non-null  object\n",
      " 57  CountBoxUuid                        68221 non-null  object\n",
      " 58  FoundAtLeastOneUuid                 68221 non-null  object\n",
      " 59  NotInvestigatedUuid                 68221 non-null  object\n",
      " 60  InvestigatedUuid                    68221 non-null  object\n",
      " 61  LeakCoord                           68219 non-null  object\n",
      " 62  LeakCoordLatLon                     68219 non-null  object\n",
      " 63  LeakCoordPoint                      68219 non-null  object\n",
      " 64  PeakCoord                           68221 non-null  object\n",
      " 65  PeakCoordLatLon                     68221 non-null  object\n",
      " 66  _id                                 68221 non-null  object\n",
      "dtypes: object(67)\n",
      "memory usage: 34.9+ MB\n"
     ]
    }
   ],
   "source": [
    "leak_investigations_raw.info()"
   ]
  },
  {
   "cell_type": "code",
   "execution_count": null,
   "id": "068b8075-1b84-4b18-b541-1491b599956d",
   "metadata": {
    "tags": []
   },
   "outputs": [],
   "source": [
    "report_ids = emission_sources.ReportId.unique().tolist()\n",
    "\n",
    "leak_columns_to_keep = [\n",
    "    \"PeakNumber\",\n",
    "    \"Region\",\n",
    "    \"City\",\n",
    "    \"PCubedReportName\",\n",
    "    \"BoxId\",\n",
    "    # \"LeakGrade\",\n",
    "    \"dataLocalizzazione\",\n",
    "    \"codiceDispersione\",\n",
    "    # \"FoundDateTime\",\n",
    "    \"dataLocalizzazione\",\n",
    "    # \"AG/BG\",\n",
    "    \"aereoInterrato\",\n",
    "    # \"LeakLocation\",\n",
    "    \"indirizzoLocalizzazione\",\n",
    "    \"LeakCoordLatLon\",\n",
    "    \"PCubedReportGuid\",\n",
    "    \"LeakFound\",\n",
    "    \"PipelineMeters\",\n",
    "    \"AssetCoverageFrac\",\n",
    "    \"PriorityScore\",  ## added for the emission sources solution\n",
    "]\n",
    "\n",
    "leak_investigations = (\n",
    "    leak_investigations_raw.query(\"PCubedReportGuid.isin(@report_ids)\")[\n",
    "        leak_columns_to_keep\n",
    "    ]\n",
    "    .reset_index(drop=True)\n",
    "    .copy()\n",
    ")\n",
    "\n",
    "\n",
    "leak_investigations[\"PeakNumber\"] = (\n",
    "    leak_investigations[\"PeakNumber\"]\n",
    "    .str.rsplit(\"LISA \")\n",
    "    .map(lambda x: x[-1])\n",
    "    .astype(int)\n",
    ")\n",
    "\n",
    "# leak_investigations[\"FoundDateTime\"] = pd.to_datetime(\n",
    "#     leak_investigations[\"FoundDateTime\"]\n",
    "# )\n",
    "leak_investigations[\"dataLocalizzazione\"] = pd.to_datetime(\n",
    "    leak_investigations[\"dataLocalizzazione\"], unit=\"s\", infer_datetime_format=True\n",
    ")\n",
    "\n",
    "\n",
    "leak_investigations.info()\n",
    "leak_investigations.head()"
   ]
  },
  {
   "cell_type": "markdown",
   "id": "0d2444ce-fb76-43e6-a508-e65988fa78d0",
   "metadata": {
    "tags": []
   },
   "source": [
    "### Following the discussion with Noah:\n",
    " (https://picarro.slack.com/archives/D034LGQ0FV2/p1649962711721239?thread_ts=1649958068.663449&cid=D034LGQ0FV2)\n",
    " - I am renaming the PrioritiyScore and PeakNumber of the \"leak_investigations\" to don't eliminate them but at least to differentiate them. I add a \"leak\" at the end of PriorityScore and PeakNumber\n",
    " - Don't consider the cells below that are commented. They will be eliminated once everything works."
   ]
  },
  {
   "cell_type": "code",
   "execution_count": null,
   "id": "0f294da0-e312-4d64-aabc-216ab1cb0a33",
   "metadata": {},
   "outputs": [],
   "source": [
    "leak_investigations.rename(\n",
    "    columns={\"PriorityScore\": \"PriorityScore_leak\", \"PeakNumber\": \"PeakNumber_leak\"},\n",
    "    inplace=True,\n",
    ")\n",
    "leak_investigations.info()"
   ]
  },
  {
   "cell_type": "code",
   "execution_count": null,
   "id": "dd6c5fba-4d15-4918-bc94-2ba6a0fd24cc",
   "metadata": {},
   "outputs": [],
   "source": [
    "def get_latitude(x):\n",
    "    if type(x) != list:\n",
    "        lat = np.nan\n",
    "    else:\n",
    "        lat = x[0]\n",
    "    return lat\n",
    "\n",
    "\n",
    "def get_longitude(x):\n",
    "    if type(x) != list:\n",
    "        lon = np.nan\n",
    "    else:\n",
    "        lon = x[1]\n",
    "    return lon\n",
    "\n",
    "\n",
    "leak_investigations[\"LeakLatitude\"] = (\n",
    "    leak_investigations[\"LeakCoordLatLon\"]\n",
    "    .str.split(\",\")\n",
    "    .map(get_latitude)\n",
    "    .astype(float)\n",
    ")\n",
    "leak_investigations[\"LeakLongitude\"] = (\n",
    "    leak_investigations[\"LeakCoordLatLon\"]\n",
    "    .str.split(\",\")\n",
    "    .map(get_longitude)\n",
    "    .astype(float)\n",
    ")"
   ]
  },
  {
   "cell_type": "markdown",
   "id": "94fc3e77-d514-4200-9dab-cfd859415859",
   "metadata": {},
   "source": [
    "### Merge the emission sources with the leak investigations"
   ]
  },
  {
   "cell_type": "code",
   "execution_count": null,
   "id": "79ac151a-40ff-4c20-a153-8aa4126fb9d6",
   "metadata": {},
   "outputs": [],
   "source": [
    "leak_and_emission_source_join = (\n",
    "    emission_sources.set_index(\"PeakNumber\")\n",
    "    .drop(index=0)\n",
    "    .reset_index()\n",
    "    .merge(\n",
    "        leak_investigations,\n",
    "        how=\"left\",\n",
    "        left_on=[\"ReportId\", \"PeakNumber\"],\n",
    "        right_on=[\"PCubedReportGuid\", \"PeakNumber_leak\"],\n",
    "        validate=\"1:m\",\n",
    "    )\n",
    ")\n",
    "\n",
    "non_reported_emission_sources = (\n",
    "    emission_sources.set_index(\"PeakNumber\").loc[0].reset_index()\n",
    ")\n",
    "leak_and_emission_source_join = pd.concat(\n",
    "    [leak_and_emission_source_join, non_reported_emission_sources], axis=0\n",
    ")\n",
    "\n",
    "leak_and_emission_source_join.info()"
   ]
  },
  {
   "cell_type": "markdown",
   "id": "ce2842ad-d443-45b7-a96d-9e0bdb860eff",
   "metadata": {},
   "source": [
    "## Get Leak Probability"
   ]
  },
  {
   "cell_type": "code",
   "execution_count": null,
   "id": "3d7c756c-9c43-4edd-96f1-e3bb8ddff031",
   "metadata": {},
   "outputs": [],
   "source": [
    "lisa_to_leak_probability_map = {\n",
    "    \"Found_Gas_Leak\": 1,\n",
    "    \"Found_Other_Source\": 0,\n",
    "    \"No_Gas_Found\": 0,\n",
    "    \"Not_Investigated\": GLOBAL_LISA_TO_LEAK_CONVERSION_RATE,\n",
    "    \"In_Progress\": GLOBAL_LISA_TO_LEAK_CONVERSION_RATE,\n",
    "}\n",
    "\n",
    "leak_and_emission_source_join[\"LeakProbability\"] = (\n",
    "    leak_and_emission_source_join[\"LeakFound\"]\n",
    "    .map(lisa_to_leak_probability_map)\n",
    "    .fillna(GLOBAL_LISA_TO_LEAK_CONVERSION_RATE)\n",
    ")"
   ]
  },
  {
   "cell_type": "code",
   "execution_count": null,
   "id": "9847fd2d-4007-44ef-8fc8-d6f8599d8b8b",
   "metadata": {},
   "outputs": [],
   "source": [
    "leak_and_emission_source_join[\"LeakProbability\"].value_counts(dropna=False)"
   ]
  },
  {
   "cell_type": "markdown",
   "id": "9ed02e33-9a5c-4b8d-9be0-841d9da44580",
   "metadata": {},
   "source": [
    "## Get Natural Gas or Possible Natural Gas LISAs"
   ]
  },
  {
   "cell_type": "code",
   "execution_count": null,
   "id": "45538f97-4653-468e-82ac-2da21ef5d453",
   "metadata": {},
   "outputs": [],
   "source": [
    "leak_and_emission_source_join = (\n",
    "    leak_and_emission_source_join.set_index(\"DispositionName\")\n",
    "    .drop(index=[\"Not_Natural_Gas\"])\n",
    "    .reset_index()\n",
    ")\n",
    "leak_and_emission_source_join.info()\n",
    "leak_and_emission_source_join.head()"
   ]
  },
  {
   "cell_type": "markdown",
   "id": "9cd64fbf-6183-45e2-9170-8217ee4bc39a",
   "metadata": {},
   "source": [
    "## Save"
   ]
  },
  {
   "cell_type": "code",
   "execution_count": null,
   "id": "2c7d9a8b-4c4c-4838-a17c-e3e5ac4edd01",
   "metadata": {},
   "outputs": [],
   "source": [
    "leak_and_emission_source_join.info()\n",
    "leak_and_emission_source_join.head()\n",
    "\n",
    "leak_and_emission_source_join.to_pickle(\n",
    "    f\"data/prepared-leaks-with-emission-sources-{CUSTOMER}-errors.pickle\"\n",
    ")"
   ]
  },
  {
   "cell_type": "code",
   "execution_count": null,
   "id": "16a8db2a-107b-4788-b6fc-0e4f200c2a78",
   "metadata": {},
   "outputs": [],
   "source": []
  }
 ],
 "metadata": {
  "kernelspec": {
   "display_name": "Python 3 (ipykernel)",
   "language": "python",
   "name": "python3"
  },
  "language_info": {
   "codemirror_mode": {
    "name": "ipython",
    "version": 3
   },
   "file_extension": ".py",
   "mimetype": "text/x-python",
   "name": "python",
   "nbconvert_exporter": "python",
   "pygments_lexer": "ipython3",
   "version": "3.9.13"
  }
 },
 "nbformat": 4,
 "nbformat_minor": 5
}
