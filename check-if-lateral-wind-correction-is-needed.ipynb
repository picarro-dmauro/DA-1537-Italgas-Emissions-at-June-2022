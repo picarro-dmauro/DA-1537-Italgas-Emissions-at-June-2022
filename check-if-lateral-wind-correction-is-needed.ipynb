{
 "cells": [
  {
   "cell_type": "code",
   "execution_count": null,
   "id": "37a563c9-4c75-4264-9219-7abec9598102",
   "metadata": {},
   "outputs": [],
   "source": [
    "%load_ext dotenv\n",
    "%dotenv\n",
    "%load_ext lab_black\n",
    "%load_ext autoreload\n",
    "%autoreload 2\n",
    "\n",
    "import numpy as np\n",
    "import matplotlib.pyplot as plt\n",
    "import pandas as pd\n",
    "from common import (\n",
    "    format_ax,\n",
    "    query_mssql_iteratively,\n",
    "    create_emission_source_query,\n",
    "    get_sample_of_peak_measurements_from_each_analyzer,\n",
    ")\n",
    "from config import CUSTOMER"
   ]
  },
  {
   "cell_type": "code",
   "execution_count": null,
   "id": "13f4e033-a432-427d-98c0-5f1745b14655",
   "metadata": {},
   "outputs": [],
   "source": [
    "CUSTOMER"
   ]
  },
  {
   "cell_type": "markdown",
   "id": "8e68a42e-a010-4550-86ce-77c567041f55",
   "metadata": {},
   "source": [
    "## Get Emission Sources"
   ]
  },
  {
   "cell_type": "code",
   "execution_count": null,
   "id": "bcddae44-02fb-487c-a069-6213a8583c4d",
   "metadata": {},
   "outputs": [],
   "source": [
    "emission_sources = pd.read_pickle(\n",
    "    f\"data/non-reprocessed-emission-sources-{CUSTOMER}.pickle\"\n",
    ")\n",
    "emission_sources.info()\n",
    "emission_sources.head()"
   ]
  },
  {
   "cell_type": "markdown",
   "id": "58659121-b331-4e96-bf35-158d0ec0b642",
   "metadata": {
    "tags": []
   },
   "source": [
    "## Check if Lateral Wind Correction is Needed"
   ]
  },
  {
   "cell_type": "code",
   "execution_count": null,
   "id": "f72cb677-26c3-47e9-8fe1-0757da67be61",
   "metadata": {},
   "outputs": [],
   "source": [
    "%%time\n",
    "\n",
    "analyzer_measurement_samples = get_sample_of_peak_measurements_from_each_analyzer(emission_sources, sample_fraction=0.4)"
   ]
  },
  {
   "cell_type": "code",
   "execution_count": null,
   "id": "5649f78a-64aa-49aa-9cbd-1b2a7d5b5e67",
   "metadata": {},
   "outputs": [],
   "source": [
    "# analyzer_measurement_samples\n"
   ]
  },
  {
   "cell_type": "code",
   "execution_count": null,
   "id": "9353e1c6-f11b-483a-a36f-300800d0e220",
   "metadata": {},
   "outputs": [],
   "source": [
    "fig, axs = plt.subplots(\n",
    "    nrows=len(analyzer_measurement_samples),\n",
    "    figsize=(12, 10 * len(analyzer_measurement_samples)),\n",
    ")\n",
    "\n",
    "for i, (analyzer_id, measurements_sample) in enumerate(\n",
    "    analyzer_measurement_samples.items()\n",
    "):\n",
    "    if type(axs) != np.ndarray:\n",
    "        ax = axs\n",
    "    else:\n",
    "        ax = axs[i]\n",
    "\n",
    "    try:\n",
    "        measurements_sample.WeatherStationRotation.hist(ax=ax, bins=50)\n",
    "        format_ax(\n",
    "            ax=ax,\n",
    "            title=f\"Analyzer: {analyzer_id}\\nmedian={round(measurements_sample.WeatherStationRotation.median(),2)}\",\n",
    "            x_label=\"WeatherStationRotation (degrees)\",\n",
    "            y_label=\"Measurement Count\",\n",
    "        )\n",
    "    except AttributeError:\n",
    "        pass\n",
    "\n",
    "\n",
    "fig.tight_layout()"
   ]
  },
  {
   "cell_type": "code",
   "execution_count": null,
   "id": "9191d2ef-378c-48c2-bf8d-e68c99c5768e",
   "metadata": {
    "pycharm": {
     "name": "#%%\n"
    }
   },
   "outputs": [],
   "source": [
    "fig, axs = plt.subplots(\n",
    "    nrows=len(analyzer_measurement_samples),\n",
    "    figsize=(12, 10 * len(analyzer_measurement_samples)),\n",
    ")\n",
    "\n",
    "for i, (analyzer_id, measurements_sample) in enumerate(\n",
    "    analyzer_measurement_samples.items()\n",
    "):\n",
    "    if type(axs) != np.ndarray:\n",
    "        ax = axs\n",
    "    else:\n",
    "        ax = axs[i]\n",
    "\n",
    "    measurements_sample = measurements_sample.sort_values(by=\"EpochTime\")\n",
    "\n",
    "    ax.plot(\n",
    "        measurements_sample[\"EpochTime\"],\n",
    "        measurements_sample[\"WeatherStationRotation\"],\n",
    "        label=\"weather station rotation\",\n",
    "    )\n",
    "\n",
    "    ax = format_ax(\n",
    "        ax=ax,\n",
    "        title=f\"{CUSTOMER.title()} measurements_sample\",\n",
    "        x_label=\"epoch seconds\",\n",
    "        y_label=\"degrees\",\n",
    "    )\n",
    "\n",
    "    ax.set_ylim((-20, 20))\n",
    "\n",
    "\n",
    "fig.tight_layout()"
   ]
  },
  {
   "cell_type": "code",
   "execution_count": null,
   "id": "d1d3def0-d95f-4d0a-83eb-c63358b33709",
   "metadata": {},
   "outputs": [],
   "source": []
  }
 ],
 "metadata": {
  "kernelspec": {
   "display_name": "Python 3 (ipykernel)",
   "language": "python",
   "name": "python3"
  },
  "language_info": {
   "codemirror_mode": {
    "name": "ipython",
    "version": 3
   },
   "file_extension": ".py",
   "mimetype": "text/x-python",
   "name": "python",
   "nbconvert_exporter": "python",
   "pygments_lexer": "ipython3",
   "version": "3.9.10"
  }
 },
 "nbformat": 4,
 "nbformat_minor": 5
}
